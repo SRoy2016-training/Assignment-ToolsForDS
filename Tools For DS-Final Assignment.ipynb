{
  "metadata": {
    "kernelspec": {
      "name": "python",
      "display_name": "Python (Pyodide)",
      "language": "python"
    },
    "language_info": {
      "codemirror_mode": {
        "name": "python",
        "version": 3
      },
      "file_extension": ".py",
      "mimetype": "text/x-python",
      "name": "python",
      "nbconvert_exporter": "python",
      "pygments_lexer": "ipython3",
      "version": "3.8"
    }
  },
  "nbformat_minor": 5,
  "nbformat": 4,
  "cells": [
    {
      "id": "f6dfe443-f6f0-4d31-ab87-085279004132",
      "cell_type": "markdown",
      "source": "# Data Science Tools and Ecosystem",
      "metadata": {}
    },
    {
      "id": "9ff5b7df-5dfc-4b9e-861e-678066e8b07b",
      "cell_type": "markdown",
      "source": "## In this notebook, Data Science Tools and Ecosystem are summarized",
      "metadata": {}
    },
    {
      "id": "67ba2317-dbe7-41c1-bb03-fd6561155351",
      "cell_type": "markdown",
      "source": "## Some of the popular languages that Data Scientists use are:\n\t1. Python\n\t2. R\n    3. SQL",
      "metadata": {}
    },
    {
      "id": "96ef3104-36b7-4101-a998-c341580992ed",
      "cell_type": "markdown",
      "source": "## Some of the commonly used libraries used by Data Scientists include:\n- `pandas`: Data manipulation\n- `numpy`: Numerical operations\n- `scikit-learn`: Machine learning",
      "metadata": {},
      "attachments": {}
    },
    {
      "id": "08cd1079-c46d-4dda-9a5d-62f005c81a2f",
      "cell_type": "markdown",
      "source": "|Data Science Tools|\n|-------------------------|\n|Jupyter Lab/Jupyter Notebook|\n|Rstudio|\n|VS Code|",
      "metadata": {},
      "attachments": {}
    },
    {
      "id": "c289ed4d-8e06-4c2b-bbc2-8db0539bbc81",
      "cell_type": "markdown",
      "source": "### Below are a few examples of evaluating arithmetic expressions in Python",
      "metadata": {}
    },
    {
      "id": "41850ea2-d1bf-4c2d-ba3c-62e4c2d0b986",
      "cell_type": "code",
      "source": "# This a simple arithmetic expression to mutiply then add integers\n(3*4)+5",
      "metadata": {
        "trusted": true
      },
      "outputs": [
        {
          "execution_count": 2,
          "output_type": "execute_result",
          "data": {
            "text/plain": "17"
          },
          "metadata": {}
        }
      ],
      "execution_count": 2
    },
    {
      "id": "c0c57b7e-dbb3-413a-91ef-c3db7a25fdc8",
      "cell_type": "code",
      "source": "# This will convert 200 minutes to hours by diving by 60\n200/60",
      "metadata": {
        "trusted": true
      },
      "outputs": [
        {
          "execution_count": 5,
          "output_type": "execute_result",
          "data": {
            "text/plain": "3.3333333333333335"
          },
          "metadata": {}
        }
      ],
      "execution_count": 5
    },
    {
      "id": "15dac4e0-c01c-43d3-906f-b7d41e15974f",
      "cell_type": "markdown",
      "source": "## Objective\n### List popular languages for Data Science\n- **Python**: Most popular for machine learning and general-purpose data work.\n- **R**: Specialized in statistical analysis and visualization.\n- **SQL**: For database querying and manipulation.\n- **Julia**: High-performance, mathematical computing.\n- **Scala**: Often used with big data tools like Apache Spark.",
      "metadata": {}
    },
    {
      "id": "4d0133a9-1596-4752-99fe-d83c5e49747b",
      "cell_type": "markdown",
      "source": "## Author\n### Saswata Roy",
      "metadata": {}
    },
    {
      "id": "15156f71-4a08-479a-9931-fd30b3115169",
      "cell_type": "code",
      "source": "",
      "metadata": {
        "trusted": true
      },
      "outputs": [],
      "execution_count": null
    }
  ]
}